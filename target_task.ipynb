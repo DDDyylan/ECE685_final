{
 "cells": [
  {
   "cell_type": "code",
   "execution_count": 1,
   "metadata": {},
   "outputs": [],
   "source": [
    "import torch\n",
    "import torch.nn as nn\n",
    "import torch.nn.functional as F\n",
    "import numpy as np\n",
    "import pandas as pd\n",
    "from torch.utils.data import Dataset, DataLoader, random_split\n",
    "import torchvision\n",
    "import torchvision.transforms as transforms\n",
    "from PIL import Image\n",
    "import os\n",
    "from my_dataset import *\n",
    "import matplotlib.pyplot as plt\n",
    "import matplotlib.patches as patches\n",
    "from ultralytics import YOLO\n",
    "import cv2\n",
    "%load_ext autoreload\n",
    "%autoreload 2"
   ]
  },
  {
   "cell_type": "markdown",
   "metadata": {},
   "source": [
    "This file trains YOLO on target tasks from scratch. The results will be used to compare those from MAML fine tuning."
   ]
  },
  {
   "cell_type": "markdown",
   "metadata": {},
   "source": [
    "### Target task 1: shoulder-elbow dataset"
   ]
  },
  {
   "cell_type": "code",
   "execution_count": null,
   "metadata": {},
   "outputs": [],
   "source": [
    "device = 'cuda'\n",
    "model = YOLO('yolov8n.yaml')\n",
    "out = model.train(data='shoulder_elbow_scratch.yaml', epochs=50, device='cuda', imgsz=256, batch=64)"
   ]
  },
  {
   "cell_type": "markdown",
   "metadata": {},
   "source": [
    "### Target task 2: Bone fracture detection"
   ]
  },
  {
   "cell_type": "code",
   "execution_count": 2,
   "metadata": {},
   "outputs": [
    {
     "name": "stdout",
     "output_type": "stream",
     "text": [
      "New https://pypi.org/project/ultralytics/8.3.43 available  Update with 'pip install -U ultralytics'\n",
      "Ultralytics 8.3.39  Python-3.12.1 torch-2.2.0+cu118 CUDA:0 (NVIDIA GeForce RTX 3050 6GB Laptop GPU, 6144MiB)\n",
      "\u001b[34m\u001b[1mengine\\trainer: \u001b[0mtask=detect, mode=train, model=yolov8n.yaml, data=bone_fracture_scratch.yaml, epochs=10, time=None, patience=100, batch=64, imgsz=256, save=True, save_period=-1, cache=False, device=cuda, workers=8, project=None, name=train3, exist_ok=False, pretrained=True, optimizer=auto, verbose=True, seed=0, deterministic=True, single_cls=False, rect=False, cos_lr=False, close_mosaic=10, resume=False, amp=True, fraction=1.0, profile=False, freeze=None, multi_scale=False, overlap_mask=True, mask_ratio=4, dropout=0.0, val=True, split=val, save_json=False, save_hybrid=False, conf=None, iou=0.7, max_det=300, half=False, dnn=False, plots=True, source=None, vid_stride=1, stream_buffer=False, visualize=False, augment=False, agnostic_nms=False, classes=None, retina_masks=False, embed=None, show=False, save_frames=False, save_txt=False, save_conf=False, save_crop=False, show_labels=True, show_conf=True, show_boxes=True, line_width=None, format=torchscript, keras=False, optimize=False, int8=False, dynamic=False, simplify=True, opset=None, workspace=None, nms=False, lr0=0.01, lrf=0.01, momentum=0.937, weight_decay=0.0005, warmup_epochs=3.0, warmup_momentum=0.8, warmup_bias_lr=0.1, box=7.5, cls=0.5, dfl=1.5, pose=12.0, kobj=1.0, nbs=64, hsv_h=0.015, hsv_s=0.7, hsv_v=0.4, degrees=0.0, translate=0.1, scale=0.5, shear=0.0, perspective=0.0, flipud=0.0, fliplr=0.5, bgr=0.0, mosaic=1.0, mixup=0.0, copy_paste=0.0, copy_paste_mode=flip, auto_augment=randaugment, erasing=0.4, crop_fraction=1.0, cfg=None, tracker=botsort.yaml, save_dir=runs\\detect\\train3\n",
      "Overriding model.yaml nc=80 with nc=1\n",
      "\n",
      "                   from  n    params  module                                       arguments                     \n",
      "  0                  -1  1       464  ultralytics.nn.modules.conv.Conv             [3, 16, 3, 2]                 \n",
      "  1                  -1  1      4672  ultralytics.nn.modules.conv.Conv             [16, 32, 3, 2]                \n",
      "  2                  -1  1      7360  ultralytics.nn.modules.block.C2f             [32, 32, 1, True]             \n",
      "  3                  -1  1     18560  ultralytics.nn.modules.conv.Conv             [32, 64, 3, 2]                \n",
      "  4                  -1  2     49664  ultralytics.nn.modules.block.C2f             [64, 64, 2, True]             \n",
      "  5                  -1  1     73984  ultralytics.nn.modules.conv.Conv             [64, 128, 3, 2]               \n",
      "  6                  -1  2    197632  ultralytics.nn.modules.block.C2f             [128, 128, 2, True]           \n",
      "  7                  -1  1    295424  ultralytics.nn.modules.conv.Conv             [128, 256, 3, 2]              \n",
      "  8                  -1  1    460288  ultralytics.nn.modules.block.C2f             [256, 256, 1, True]           \n",
      "  9                  -1  1    164608  ultralytics.nn.modules.block.SPPF            [256, 256, 5]                 \n",
      " 10                  -1  1         0  torch.nn.modules.upsampling.Upsample         [None, 2, 'nearest']          \n",
      " 11             [-1, 6]  1         0  ultralytics.nn.modules.conv.Concat           [1]                           \n",
      " 12                  -1  1    148224  ultralytics.nn.modules.block.C2f             [384, 128, 1]                 \n",
      " 13                  -1  1         0  torch.nn.modules.upsampling.Upsample         [None, 2, 'nearest']          \n",
      " 14             [-1, 4]  1         0  ultralytics.nn.modules.conv.Concat           [1]                           \n",
      " 15                  -1  1     37248  ultralytics.nn.modules.block.C2f             [192, 64, 1]                  \n",
      " 16                  -1  1     36992  ultralytics.nn.modules.conv.Conv             [64, 64, 3, 2]                \n",
      " 17            [-1, 12]  1         0  ultralytics.nn.modules.conv.Concat           [1]                           \n",
      " 18                  -1  1    123648  ultralytics.nn.modules.block.C2f             [192, 128, 1]                 \n",
      " 19                  -1  1    147712  ultralytics.nn.modules.conv.Conv             [128, 128, 3, 2]              \n",
      " 20             [-1, 9]  1         0  ultralytics.nn.modules.conv.Concat           [1]                           \n",
      " 21                  -1  1    493056  ultralytics.nn.modules.block.C2f             [384, 256, 1]                 \n",
      " 22        [15, 18, 21]  1    751507  ultralytics.nn.modules.head.Detect           [1, [64, 128, 256]]           \n",
      "YOLOv8n summary: 225 layers, 3,011,043 parameters, 3,011,027 gradients, 8.2 GFLOPs\n",
      "\n",
      "Freezing layer 'model.22.dfl.conv.weight'\n",
      "\u001b[34m\u001b[1mAMP: \u001b[0mrunning Automatic Mixed Precision (AMP) checks...\n",
      "\u001b[34m\u001b[1mAMP: \u001b[0mchecks passed \n",
      "C:\\duke_assignments\\bone_fracture\\images\\train\n"
     ]
    },
    {
     "name": "stderr",
     "output_type": "stream",
     "text": [
      "\u001b[34m\u001b[1mtrain: \u001b[0mScanning C:\\duke_assignments\\bone_fracture\\labels\\train.cache... 4606 images, 4640 backgrounds, 0 corrupt: 100%|██████████| 9246/9246 [00:00<?, ?it/s]\n"
     ]
    },
    {
     "name": "stdout",
     "output_type": "stream",
     "text": [
      "C:\\duke_assignments\\bone_fracture\\images\\val\n"
     ]
    },
    {
     "name": "stderr",
     "output_type": "stream",
     "text": [
      "\u001b[34m\u001b[1mval: \u001b[0mScanning C:\\duke_assignments\\bone_fracture\\labels\\val.cache... 337 images, 492 backgrounds, 0 corrupt: 100%|██████████| 829/829 [00:00<?, ?it/s]\n"
     ]
    },
    {
     "name": "stdout",
     "output_type": "stream",
     "text": [
      "Plotting labels to runs\\detect\\train3\\labels.jpg... \n",
      "\u001b[34m\u001b[1moptimizer:\u001b[0m 'optimizer=auto' found, ignoring 'lr0=0.01' and 'momentum=0.937' and determining best 'optimizer', 'lr0' and 'momentum' automatically... \n",
      "\u001b[34m\u001b[1moptimizer:\u001b[0m AdamW(lr=0.002, momentum=0.9) with parameter groups 57 weight(decay=0.0), 64 weight(decay=0.0005), 63 bias(decay=0.0)\n",
      "Image sizes 256 train, 256 val\n",
      "Using 8 dataloader workers\n",
      "Logging results to \u001b[1mruns\\detect\\train3\u001b[0m\n",
      "Starting training for 10 epochs...\n",
      "Closing dataloader mosaic\n",
      "\n",
      "      Epoch    GPU_mem   box_loss   cls_loss   dfl_loss  Instances       Size\n"
     ]
    },
    {
     "name": "stderr",
     "output_type": "stream",
     "text": [
      "       1/10      1.66G      1.079      2.192       2.65         15        256: 100%|██████████| 145/145 [00:57<00:00,  2.52it/s]\n",
      "                 Class     Images  Instances      Box(P          R      mAP50  mAP50-95): 100%|██████████| 7/7 [00:04<00:00,  1.59it/s]"
     ]
    },
    {
     "name": "stdout",
     "output_type": "stream",
     "text": [
      "                   all        829        337      0.345       0.71      0.345      0.303\n"
     ]
    },
    {
     "name": "stderr",
     "output_type": "stream",
     "text": [
      "\n"
     ]
    },
    {
     "name": "stdout",
     "output_type": "stream",
     "text": [
      "\n",
      "      Epoch    GPU_mem   box_loss   cls_loss   dfl_loss  Instances       Size\n"
     ]
    },
    {
     "name": "stderr",
     "output_type": "stream",
     "text": [
      "       2/10      1.68G     0.2481     0.9178      1.069         14        256: 100%|██████████| 145/145 [00:42<00:00,  3.37it/s]\n",
      "                 Class     Images  Instances      Box(P          R      mAP50  mAP50-95): 100%|██████████| 7/7 [00:03<00:00,  1.88it/s]"
     ]
    },
    {
     "name": "stdout",
     "output_type": "stream",
     "text": [
      "                   all        829        337      0.399      0.973      0.442      0.347\n"
     ]
    },
    {
     "name": "stderr",
     "output_type": "stream",
     "text": [
      "\n"
     ]
    },
    {
     "name": "stdout",
     "output_type": "stream",
     "text": [
      "\n",
      "      Epoch    GPU_mem   box_loss   cls_loss   dfl_loss  Instances       Size\n"
     ]
    },
    {
     "name": "stderr",
     "output_type": "stream",
     "text": [
      "       3/10      1.68G     0.1771      0.833     0.9851         14        256: 100%|██████████| 145/145 [00:57<00:00,  2.50it/s]\n",
      "                 Class     Images  Instances      Box(P          R      mAP50  mAP50-95): 100%|██████████| 7/7 [00:05<00:00,  1.31it/s]"
     ]
    },
    {
     "name": "stdout",
     "output_type": "stream",
     "text": [
      "                   all        829        337       0.39      0.964      0.457      0.343\n"
     ]
    },
    {
     "name": "stderr",
     "output_type": "stream",
     "text": [
      "\n"
     ]
    },
    {
     "name": "stdout",
     "output_type": "stream",
     "text": [
      "\n",
      "      Epoch    GPU_mem   box_loss   cls_loss   dfl_loss  Instances       Size\n"
     ]
    },
    {
     "name": "stderr",
     "output_type": "stream",
     "text": [
      "       4/10      1.68G     0.1367     0.8016     0.9509         10        256: 100%|██████████| 145/145 [00:53<00:00,  2.72it/s]\n",
      "                 Class     Images  Instances      Box(P          R      mAP50  mAP50-95): 100%|██████████| 7/7 [00:04<00:00,  1.58it/s]"
     ]
    },
    {
     "name": "stdout",
     "output_type": "stream",
     "text": [
      "                   all        829        337      0.402      0.988      0.561      0.463\n"
     ]
    },
    {
     "name": "stderr",
     "output_type": "stream",
     "text": [
      "\n"
     ]
    },
    {
     "name": "stdout",
     "output_type": "stream",
     "text": [
      "\n",
      "      Epoch    GPU_mem   box_loss   cls_loss   dfl_loss  Instances       Size\n"
     ]
    },
    {
     "name": "stderr",
     "output_type": "stream",
     "text": [
      "       5/10      1.68G     0.1052     0.7794      0.936         13        256: 100%|██████████| 145/145 [01:01<00:00,  2.38it/s]\n",
      "                 Class     Images  Instances      Box(P          R      mAP50  mAP50-95): 100%|██████████| 7/7 [00:06<00:00,  1.16it/s]"
     ]
    },
    {
     "name": "stdout",
     "output_type": "stream",
     "text": [
      "                   all        829        337      0.398      0.976      0.437      0.376\n"
     ]
    },
    {
     "name": "stderr",
     "output_type": "stream",
     "text": [
      "\n"
     ]
    },
    {
     "name": "stdout",
     "output_type": "stream",
     "text": [
      "\n",
      "      Epoch    GPU_mem   box_loss   cls_loss   dfl_loss  Instances       Size\n"
     ]
    },
    {
     "name": "stderr",
     "output_type": "stream",
     "text": [
      "       6/10      1.68G    0.08796       0.77     0.9229         16        256: 100%|██████████| 145/145 [01:00<00:00,  2.41it/s]\n",
      "                 Class     Images  Instances      Box(P          R      mAP50  mAP50-95): 100%|██████████| 7/7 [00:05<00:00,  1.31it/s]"
     ]
    },
    {
     "name": "stdout",
     "output_type": "stream",
     "text": [
      "                   all        829        337      0.405      0.993      0.454      0.399\n"
     ]
    },
    {
     "name": "stderr",
     "output_type": "stream",
     "text": [
      "\n"
     ]
    },
    {
     "name": "stdout",
     "output_type": "stream",
     "text": [
      "\n",
      "      Epoch    GPU_mem   box_loss   cls_loss   dfl_loss  Instances       Size\n"
     ]
    },
    {
     "name": "stderr",
     "output_type": "stream",
     "text": [
      "       7/10      1.68G    0.07108      0.755     0.9217         20        256: 100%|██████████| 145/145 [01:02<00:00,  2.33it/s]\n",
      "                 Class     Images  Instances      Box(P          R      mAP50  mAP50-95): 100%|██████████| 7/7 [00:05<00:00,  1.23it/s]"
     ]
    },
    {
     "name": "stdout",
     "output_type": "stream",
     "text": [
      "                   all        829        337        0.4      0.988      0.506      0.449\n"
     ]
    },
    {
     "name": "stderr",
     "output_type": "stream",
     "text": [
      "\n"
     ]
    },
    {
     "name": "stdout",
     "output_type": "stream",
     "text": [
      "\n",
      "      Epoch    GPU_mem   box_loss   cls_loss   dfl_loss  Instances       Size\n"
     ]
    },
    {
     "name": "stderr",
     "output_type": "stream",
     "text": [
      "       8/10      1.68G    0.06321     0.7527     0.9137         11        256: 100%|██████████| 145/145 [00:59<00:00,  2.45it/s]\n",
      "                 Class     Images  Instances      Box(P          R      mAP50  mAP50-95): 100%|██████████| 7/7 [00:03<00:00,  1.85it/s]"
     ]
    },
    {
     "name": "stdout",
     "output_type": "stream",
     "text": [
      "                   all        829        337      0.404      0.991      0.488      0.432\n"
     ]
    },
    {
     "name": "stderr",
     "output_type": "stream",
     "text": [
      "\n"
     ]
    },
    {
     "name": "stdout",
     "output_type": "stream",
     "text": [
      "\n",
      "      Epoch    GPU_mem   box_loss   cls_loss   dfl_loss  Instances       Size\n"
     ]
    },
    {
     "name": "stderr",
     "output_type": "stream",
     "text": [
      "       9/10      1.68G    0.05108     0.7441     0.9112         18        256: 100%|██████████| 145/145 [00:45<00:00,  3.19it/s]\n",
      "                 Class     Images  Instances      Box(P          R      mAP50  mAP50-95): 100%|██████████| 7/7 [00:03<00:00,  1.98it/s]"
     ]
    },
    {
     "name": "stdout",
     "output_type": "stream",
     "text": [
      "                   all        829        337      0.406      0.997      0.467      0.413\n"
     ]
    },
    {
     "name": "stderr",
     "output_type": "stream",
     "text": [
      "\n"
     ]
    },
    {
     "name": "stdout",
     "output_type": "stream",
     "text": [
      "\n",
      "      Epoch    GPU_mem   box_loss   cls_loss   dfl_loss  Instances       Size\n"
     ]
    },
    {
     "name": "stderr",
     "output_type": "stream",
     "text": [
      "      10/10      1.68G    0.04219     0.7416      0.904         17        256: 100%|██████████| 145/145 [00:53<00:00,  2.72it/s]\n",
      "                 Class     Images  Instances      Box(P          R      mAP50  mAP50-95): 100%|██████████| 7/7 [00:04<00:00,  1.73it/s]"
     ]
    },
    {
     "name": "stdout",
     "output_type": "stream",
     "text": [
      "                   all        829        337      0.406          1      0.442      0.396\n"
     ]
    },
    {
     "name": "stderr",
     "output_type": "stream",
     "text": [
      "\n"
     ]
    },
    {
     "name": "stdout",
     "output_type": "stream",
     "text": [
      "\n",
      "10 epochs completed in 0.179 hours.\n",
      "Optimizer stripped from runs\\detect\\train3\\weights\\last.pt, 6.2MB\n",
      "Optimizer stripped from runs\\detect\\train3\\weights\\best.pt, 6.2MB\n",
      "\n",
      "Validating runs\\detect\\train3\\weights\\best.pt...\n",
      "WARNING  validating an untrained model YAML will result in 0 mAP.\n",
      "Ultralytics 8.3.39  Python-3.12.1 torch-2.2.0+cu118 CUDA:0 (NVIDIA GeForce RTX 3050 6GB Laptop GPU, 6144MiB)\n",
      "YOLOv8n summary (fused): 168 layers, 3,005,843 parameters, 0 gradients, 8.1 GFLOPs\n"
     ]
    },
    {
     "name": "stderr",
     "output_type": "stream",
     "text": [
      "                 Class     Images  Instances      Box(P          R      mAP50  mAP50-95): 100%|██████████| 7/7 [00:04<00:00,  1.59it/s]\n"
     ]
    },
    {
     "name": "stdout",
     "output_type": "stream",
     "text": [
      "                   all        829        337      0.402      0.988      0.563      0.466\n",
      "Speed: 0.1ms preprocess, 0.9ms inference, 0.0ms loss, 1.4ms postprocess per image\n",
      "Results saved to \u001b[1mruns\\detect\\train3\u001b[0m\n"
     ]
    }
   ],
   "source": [
    "device = 'cuda'\n",
    "model = YOLO('yolov8n.yaml')\n",
    "out = model.train(data='bone_fracture_scratch.yaml', epochs=10, device='cuda', imgsz=256, batch=64)"
   ]
  },
  {
   "cell_type": "code",
   "execution_count": 8,
   "metadata": {},
   "outputs": [],
   "source": [
    "root_path = '../bone_fracture/images/test/'"
   ]
  },
  {
   "cell_type": "code",
   "execution_count": 12,
   "metadata": {},
   "outputs": [],
   "source": [
    "paths = [root_path + x for x in os.listdir(root_path)][:100]"
   ]
  },
  {
   "cell_type": "code",
   "execution_count": 14,
   "metadata": {},
   "outputs": [
    {
     "name": "stdout",
     "output_type": "stream",
     "text": [
      "\n",
      "0: 256x256 1 bone, 2.3ms\n",
      "1: 256x256 1 bone, 2.3ms\n",
      "2: 256x256 1 bone, 2.3ms\n",
      "3: 256x256 1 bone, 2.3ms\n",
      "4: 256x256 1 bone, 2.3ms\n",
      "5: 256x256 1 bone, 2.3ms\n",
      "6: 256x256 1 bone, 2.3ms\n",
      "7: 256x256 1 bone, 2.3ms\n",
      "8: 256x256 1 bone, 2.3ms\n",
      "9: 256x256 1 bone, 2.3ms\n",
      "10: 256x256 1 bone, 2.3ms\n",
      "11: 256x256 1 bone, 2.3ms\n",
      "12: 256x256 1 bone, 2.3ms\n",
      "13: 256x256 1 bone, 2.3ms\n",
      "14: 256x256 1 bone, 2.3ms\n",
      "15: 256x256 1 bone, 2.3ms\n",
      "16: 256x256 1 bone, 2.3ms\n",
      "17: 256x256 1 bone, 2.3ms\n",
      "18: 256x256 1 bone, 2.3ms\n",
      "19: 256x256 1 bone, 2.3ms\n",
      "20: 256x256 1 bone, 2.3ms\n",
      "21: 256x256 1 bone, 2.3ms\n",
      "22: 256x256 1 bone, 2.3ms\n",
      "23: 256x256 1 bone, 2.3ms\n",
      "24: 256x256 1 bone, 2.3ms\n",
      "25: 256x256 1 bone, 2.3ms\n",
      "26: 256x256 1 bone, 2.3ms\n",
      "27: 256x256 1 bone, 2.3ms\n",
      "28: 256x256 1 bone, 2.3ms\n",
      "29: 256x256 1 bone, 2.3ms\n",
      "30: 256x256 1 bone, 2.3ms\n",
      "31: 256x256 1 bone, 2.3ms\n",
      "32: 256x256 1 bone, 2.3ms\n",
      "33: 256x256 1 bone, 2.3ms\n",
      "34: 256x256 1 bone, 2.3ms\n",
      "35: 256x256 1 bone, 2.3ms\n",
      "36: 256x256 1 bone, 2.3ms\n",
      "37: 256x256 1 bone, 2.3ms\n",
      "38: 256x256 1 bone, 2.3ms\n",
      "39: 256x256 1 bone, 2.3ms\n",
      "40: 256x256 1 bone, 2.3ms\n",
      "41: 256x256 1 bone, 2.3ms\n",
      "42: 256x256 1 bone, 2.3ms\n",
      "43: 256x256 1 bone, 2.3ms\n",
      "44: 256x256 1 bone, 2.3ms\n",
      "45: 256x256 1 bone, 2.3ms\n",
      "46: 256x256 1 bone, 2.3ms\n",
      "47: 256x256 1 bone, 2.3ms\n",
      "48: 256x256 1 bone, 2.3ms\n",
      "49: 256x256 1 bone, 2.3ms\n",
      "50: 256x256 1 bone, 2.3ms\n",
      "51: 256x256 1 bone, 2.3ms\n",
      "52: 256x256 1 bone, 2.3ms\n",
      "53: 256x256 1 bone, 2.3ms\n",
      "54: 256x256 1 bone, 2.3ms\n",
      "55: 256x256 1 bone, 2.3ms\n",
      "56: 256x256 1 bone, 2.3ms\n",
      "57: 256x256 1 bone, 2.3ms\n",
      "58: 256x256 1 bone, 2.3ms\n",
      "59: 256x256 1 bone, 2.3ms\n",
      "60: 256x256 1 bone, 2.3ms\n",
      "61: 256x256 1 bone, 2.3ms\n",
      "62: 256x256 1 bone, 2.3ms\n",
      "63: 256x256 1 bone, 2.3ms\n",
      "64: 256x256 1 bone, 2.3ms\n",
      "65: 256x256 1 bone, 2.3ms\n",
      "66: 256x256 1 bone, 2.3ms\n",
      "67: 256x256 1 bone, 2.3ms\n",
      "68: 256x256 1 bone, 2.3ms\n",
      "69: 256x256 1 bone, 2.3ms\n",
      "70: 256x256 1 bone, 2.3ms\n",
      "71: 256x256 1 bone, 2.3ms\n",
      "72: 256x256 1 bone, 2.3ms\n",
      "73: 256x256 1 bone, 2.3ms\n",
      "74: 256x256 1 bone, 2.3ms\n",
      "75: 256x256 1 bone, 2.3ms\n",
      "76: 256x256 1 bone, 2.3ms\n",
      "77: 256x256 1 bone, 2.3ms\n",
      "78: 256x256 1 bone, 2.3ms\n",
      "79: 256x256 1 bone, 2.3ms\n",
      "80: 256x256 1 bone, 2.3ms\n",
      "81: 256x256 1 bone, 2.3ms\n",
      "82: 256x256 1 bone, 2.3ms\n",
      "83: 256x256 1 bone, 2.3ms\n",
      "84: 256x256 1 bone, 2.3ms\n",
      "85: 256x256 1 bone, 2.3ms\n",
      "86: 256x256 1 bone, 2.3ms\n",
      "87: 256x256 1 bone, 2.3ms\n",
      "88: 256x256 1 bone, 2.3ms\n",
      "89: 256x256 1 bone, 2.3ms\n",
      "90: 256x256 1 bone, 2.3ms\n",
      "91: 256x256 1 bone, 2.3ms\n",
      "92: 256x256 1 bone, 2.3ms\n",
      "93: 256x256 1 bone, 2.3ms\n",
      "94: 256x256 1 bone, 2.3ms\n",
      "95: 256x256 1 bone, 2.3ms\n",
      "96: 256x256 1 bone, 2.3ms\n",
      "97: 256x256 1 bone, 2.3ms\n",
      "98: 256x256 1 bone, 2.3ms\n",
      "99: 256x256 1 bone, 2.3ms\n",
      "Speed: 3.2ms preprocess, 2.3ms inference, 1.4ms postprocess per image at shape (1, 3, 256, 256)\n"
     ]
    }
   ],
   "source": [
    "temp = model(paths)"
   ]
  },
  {
   "cell_type": "code",
   "execution_count": null,
   "metadata": {},
   "outputs": [],
   "source": []
  }
 ],
 "metadata": {
  "kernelspec": {
   "display_name": "duke_env",
   "language": "python",
   "name": "python3"
  },
  "language_info": {
   "codemirror_mode": {
    "name": "ipython",
    "version": 3
   },
   "file_extension": ".py",
   "mimetype": "text/x-python",
   "name": "python",
   "nbconvert_exporter": "python",
   "pygments_lexer": "ipython3",
   "version": "3.12.1"
  }
 },
 "nbformat": 4,
 "nbformat_minor": 2
}
