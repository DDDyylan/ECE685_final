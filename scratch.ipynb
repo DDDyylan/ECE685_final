{
 "cells": [
  {
   "cell_type": "code",
   "execution_count": 104,
   "metadata": {},
   "outputs": [],
   "source": [
    "import torch\n",
    "import torch.nn as nn\n",
    "import torch.nn.functional as F\n",
    "import numpy as np\n",
    "import pandas as pd\n",
    "from torch.utils.data import Dataset, DataLoader, random_split\n",
    "import torchvision\n",
    "import torchvision.transforms as transforms\n",
    "from PIL import Image\n",
    "import os\n",
    "import matplotlib.pyplot as plt\n",
    "import matplotlib.patches as patches"
   ]
  },
  {
   "cell_type": "code",
   "execution_count": 241,
   "metadata": {},
   "outputs": [],
   "source": [
    "class ImageSet(Dataset):\n",
    "    def __init__(self, image_paths, image_labels, transforms, root_adj = ''):\n",
    "        super().__init__()\n",
    "        self.images_paths = image_paths\n",
    "        self.transforms = transforms\n",
    "        self.image_labels = image_labels\n",
    "        self.root_adj = root_adj # adjust path based on your folder structure\n",
    "\n",
    "    def __len__(self):\n",
    "        return len(self.images_paths)\n",
    "    \n",
    "    def __getitem__(self, idx):\n",
    "        image = Image.open(self.root_adj + self.images_paths[idx])\n",
    "        label = self.image_labels[idx]\n",
    "        image = self.transforms(image)\n",
    "        bbox = torch.zeros(2)\n",
    "        if label == 1:\n",
    "            bbox = bbox + image.shape[1]\n",
    "        return image, label, bbox\n"
   ]
  },
  {
   "cell_type": "code",
   "execution_count": 242,
   "metadata": {},
   "outputs": [],
   "source": [
    "train_mura = pd.read_csv('../MURA-v1.1/train_image_paths.csv', header=None, names=['paths'])\n",
    "test_mura = pd.read_csv('../MURA-v1.1/valid_image_paths.csv',header=None, names=['paths'])\n",
    "train_mura_labels = pd.read_csv('../MURA-v1.1/train_labeled_studies.csv',header=None, names=['labels'])\n",
    "test_mura_labels = pd.read_csv('../MURA-v1.1/valid_labeled_studies.csv',header=None, names=['labels'])\n",
    "train_mura['indices'] = train_mura.paths.str[:-10]\n",
    "test_mura['indices'] = test_mura.paths.str[:-10]\n",
    "# full MURA with all parts\n",
    "# can select parts by filtering indices\n",
    "train_data = pd.merge(train_mura, train_mura_labels, left_on='indices', right_index=True)\n",
    "test_data = pd.merge(test_mura, test_mura_labels, left_on='indices', right_index=True)"
   ]
  },
  {
   "cell_type": "code",
   "execution_count": 243,
   "metadata": {},
   "outputs": [
    {
     "data": {
      "text/plain": [
       "'MURA-v1.1/train/XR_SHOULDER/patient00001/study1_positive/image1.png'"
      ]
     },
     "execution_count": 243,
     "metadata": {},
     "output_type": "execute_result"
    }
   ],
   "source": [
    "train_mura.paths[0]"
   ]
  },
  {
   "cell_type": "code",
   "execution_count": 244,
   "metadata": {},
   "outputs": [],
   "source": [
    "resize = 256\n",
    "trans = transforms.Compose([transforms.Resize((resize, resize)),\n",
    "                            transforms.Lambda(lambda img: img.convert('L')),\n",
    "                            transforms.ToTensor()])\n",
    "mura_dataset = ImageSet(train_data.paths, train_data.labels, trans, root_adj='../')\n",
    "mura_testset = ImageSet(test_data.paths, test_data.labels, trans)"
   ]
  },
  {
   "cell_type": "code",
   "execution_count": 248,
   "metadata": {},
   "outputs": [],
   "source": [
    "batch_size = 64\n",
    "mura_trainloader = DataLoader(mura_dataset, batch_size=batch_size, shuffle=True)\n",
    "mura_testloader = DataLoader(mura_testset, batch_size=batch_size, shuffle=True)"
   ]
  },
  {
   "cell_type": "code",
   "execution_count": null,
   "metadata": {},
   "outputs": [],
   "source": []
  }
 ],
 "metadata": {
  "kernelspec": {
   "display_name": "duke_env",
   "language": "python",
   "name": "python3"
  },
  "language_info": {
   "codemirror_mode": {
    "name": "ipython",
    "version": 3
   },
   "file_extension": ".py",
   "mimetype": "text/x-python",
   "name": "python",
   "nbconvert_exporter": "python",
   "pygments_lexer": "ipython3",
   "version": "3.12.1"
  }
 },
 "nbformat": 4,
 "nbformat_minor": 2
}
