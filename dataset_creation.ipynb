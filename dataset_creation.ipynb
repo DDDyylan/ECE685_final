{
 "cells": [
  {
   "cell_type": "code",
   "execution_count": 3,
   "metadata": {},
   "outputs": [],
   "source": [
    "import torch\n",
    "import torch.nn as nn\n",
    "import torch.nn.functional as F\n",
    "import numpy as np\n",
    "import pandas as pd\n",
    "from torch.utils.data import Dataset, DataLoader, random_split\n",
    "import torchvision\n",
    "import torchvision.transforms as transforms\n",
    "from PIL import Image\n",
    "import os\n",
    "import matplotlib.pyplot as plt\n",
    "import matplotlib.patches as patches\n",
    "from my_dataset import *\n",
    "from ultralytics import YOLO\n",
    "import cv2\n",
    "%load_ext autoreload\n",
    "%autoreload 2"
   ]
  },
  {
   "cell_type": "markdown",
   "metadata": {},
   "source": [
    "### Preprocessing For MURA Dataset"
   ]
  },
  {
   "cell_type": "code",
   "execution_count": 2,
   "metadata": {},
   "outputs": [],
   "source": [
    "train_mura = pd.read_csv('../MURA-v1.1/train_image_paths.csv', header=None, names=['paths'])\n",
    "test_mura = pd.read_csv('../MURA-v1.1/valid_image_paths.csv',header=None, names=['paths'])\n",
    "train_mura_labels = pd.read_csv('../MURA-v1.1/train_labeled_studies.csv',header=None, names=['labels'])\n",
    "test_mura_labels = pd.read_csv('../MURA-v1.1/valid_labeled_studies.csv',header=None, names=['labels'])\n",
    "train_mura['indices'] = train_mura.paths.str[:-10]\n",
    "test_mura['indices'] = test_mura.paths.str[:-10]\n",
    "# full MURA with all parts\n",
    "# can select parts by filtering indices\n",
    "train_data = pd.merge(train_mura, train_mura_labels, left_on='indices', right_index=True)\n",
    "test_data = pd.merge(test_mura, test_mura_labels, left_on='indices', right_index=True)"
   ]
  },
  {
   "cell_type": "code",
   "execution_count": 7,
   "metadata": {},
   "outputs": [],
   "source": [
    "# construct base dataset: hand and finger only\n",
    "# hand_finger = train_data[train_data['indices'].str.contains('HAND') | train_data['indices'].str.contains('FINGER')].reset_index()\n",
    "# hand_finger_test = test_data[test_data['indices'].str.contains('HAND') | test_data['indices'].str.contains('FINGER')].reset_index()\n",
    "se = train_data[train_data['indices'].str.contains('SHOULDER') | train_data['indices'].str.contains('ELBOW')].reset_index()\n",
    "se_test = test_data[test_data['indices'].str.contains('SHOULDER') | test_data['indices'].str.contains('ELBOW')].reset_index()\n"
   ]
  },
  {
   "cell_type": "code",
   "execution_count": 8,
   "metadata": {},
   "outputs": [],
   "source": [
    "resize = 256\n",
    "trans = transforms.Compose([transforms.Resize((resize, resize)),\n",
    "                            transforms.Lambda(lambda img: img.convert('RGB')),\n",
    "                            transforms.ToTensor()])\n",
    "classes = {'shoulder':0, 'elbow':1}\n",
    "# classes = {'hand':0, 'finger':1}\n",
    "# base_dataset = ImageSet(hand_finger.paths, hand_finger.labels, trans, classes, root_adj='../')\n",
    "# base_testset = ImageSet(hand_finger_test.paths, hand_finger_test.labels, trans, classes, root_adj='../')\n",
    "base_dataset = ImageSet(se.paths, se.labels, trans, classes, root_adj='../')\n",
    "base_testset = ImageSet(se_test.paths, se_test.labels, trans, classes, root_adj='../')"
   ]
  },
  {
   "cell_type": "code",
   "execution_count": 9,
   "metadata": {},
   "outputs": [],
   "source": [
    "batch_size = 1\n",
    "base_trainloader = DataLoader(base_dataset, batch_size=batch_size, shuffle=True)\n",
    "base_testloader = DataLoader(base_testset, batch_size=batch_size, shuffle=True)"
   ]
  },
  {
   "cell_type": "code",
   "execution_count": 11,
   "metadata": {},
   "outputs": [],
   "source": [
    "for idx, x in enumerate(base_trainloader):\n",
    "    image, label = x\n",
    "    image = image.detach().numpy()[0].transpose(1,2,0)\n",
    "    # image = image.astype(np.uint8)\n",
    "    image = (image * 255).astype(np.uint8)\n",
    "    if label[0][1] == 0.5:\n",
    "        label = label.detach().numpy().astype(str).tolist()[0]\n",
    "        with open(f'../shoulder_elbow_datasets/labels/train/image{idx+1}.txt', 'w') as f:\n",
    "            label = ' '.join(label)\n",
    "            f.write(label)\n",
    "    cv2.imwrite(f'../shoulder_elbow_datasets/images/train/image{idx+1}.jpg', image)\n",
    "\n",
    "\n"
   ]
  },
  {
   "cell_type": "markdown",
   "metadata": {},
   "source": [
    "### Preprocessing for Bone_Fracture"
   ]
  },
  {
   "cell_type": "code",
   "execution_count": null,
   "metadata": {},
   "outputs": [],
   "source": [
    "def get_paths(root_f, root_nf):\n",
    "    paths = [root_f+ x for x in os.listdir(root_f)]\n",
    "    paths += [root_nf + x for x in os.listdir(root_nf)]\n",
    "    paths = [x for x in paths if 'copy' not in x.lower()] # remove copies try this tmr\n",
    "    return paths"
   ]
  },
  {
   "cell_type": "code",
   "execution_count": 2,
   "metadata": {},
   "outputs": [
    {
     "ename": "NameError",
     "evalue": "name 'os' is not defined",
     "output_type": "error",
     "traceback": [
      "\u001b[1;31m---------------------------------------------------------------------------\u001b[0m",
      "\u001b[1;31mNameError\u001b[0m                                 Traceback (most recent call last)",
      "Cell \u001b[1;32mIn[2], line 2\u001b[0m\n\u001b[0;32m      1\u001b[0m root \u001b[38;5;241m=\u001b[39m \u001b[38;5;124m'\u001b[39m\u001b[38;5;124m../Bone_Fracture_Binary_Classification/\u001b[39m\u001b[38;5;124m'\u001b[39m\n\u001b[1;32m----> 2\u001b[0m train_paths \u001b[38;5;241m=\u001b[39m \u001b[43mget_paths\u001b[49m\u001b[43m(\u001b[49m\u001b[43mroot\u001b[49m\u001b[38;5;241;43m+\u001b[39;49m\u001b[38;5;124;43m'\u001b[39;49m\u001b[38;5;124;43mtrain/fractured/\u001b[39;49m\u001b[38;5;124;43m'\u001b[39;49m\u001b[43m,\u001b[49m\u001b[43m \u001b[49m\u001b[43mroot\u001b[49m\u001b[38;5;241;43m+\u001b[39;49m\u001b[38;5;124;43m'\u001b[39;49m\u001b[38;5;124;43mtrain/not fractured/\u001b[39;49m\u001b[38;5;124;43m'\u001b[39;49m\u001b[43m)\u001b[49m\n\u001b[0;32m      3\u001b[0m train_labels \u001b[38;5;241m=\u001b[39m [\u001b[38;5;241m0\u001b[39m \u001b[38;5;28;01mif\u001b[39;00m \u001b[38;5;124m'\u001b[39m\u001b[38;5;124mnot\u001b[39m\u001b[38;5;124m'\u001b[39m \u001b[38;5;129;01min\u001b[39;00m i \u001b[38;5;28;01melse\u001b[39;00m \u001b[38;5;241m1\u001b[39m \u001b[38;5;28;01mfor\u001b[39;00m i \u001b[38;5;129;01min\u001b[39;00m train_paths]\n\u001b[0;32m      4\u001b[0m test_paths \u001b[38;5;241m=\u001b[39m get_paths(root\u001b[38;5;241m+\u001b[39m\u001b[38;5;124m'\u001b[39m\u001b[38;5;124mtest/fractured/\u001b[39m\u001b[38;5;124m'\u001b[39m, root\u001b[38;5;241m+\u001b[39m\u001b[38;5;124m'\u001b[39m\u001b[38;5;124mtest/not fractured/\u001b[39m\u001b[38;5;124m'\u001b[39m)\n",
      "Cell \u001b[1;32mIn[1], line 2\u001b[0m, in \u001b[0;36mget_paths\u001b[1;34m(root_f, root_nf)\u001b[0m\n\u001b[0;32m      1\u001b[0m \u001b[38;5;28;01mdef\u001b[39;00m \u001b[38;5;21mget_paths\u001b[39m(root_f, root_nf):\n\u001b[1;32m----> 2\u001b[0m     paths \u001b[38;5;241m=\u001b[39m [root_f\u001b[38;5;241m+\u001b[39m x \u001b[38;5;28;01mfor\u001b[39;00m x \u001b[38;5;129;01min\u001b[39;00m \u001b[43mos\u001b[49m\u001b[38;5;241m.\u001b[39mlistdir(root_f)]\n\u001b[0;32m      3\u001b[0m     paths \u001b[38;5;241m+\u001b[39m\u001b[38;5;241m=\u001b[39m [root_nf \u001b[38;5;241m+\u001b[39m x \u001b[38;5;28;01mfor\u001b[39;00m x \u001b[38;5;129;01min\u001b[39;00m os\u001b[38;5;241m.\u001b[39mlistdir(root_nf)]\n\u001b[0;32m      4\u001b[0m     paths \u001b[38;5;241m=\u001b[39m [x \u001b[38;5;28;01mfor\u001b[39;00m x \u001b[38;5;129;01min\u001b[39;00m paths \u001b[38;5;28;01mif\u001b[39;00m \u001b[38;5;124m'\u001b[39m\u001b[38;5;124mcopy\u001b[39m\u001b[38;5;124m'\u001b[39m \u001b[38;5;129;01mnot\u001b[39;00m \u001b[38;5;129;01min\u001b[39;00m x\u001b[38;5;241m.\u001b[39mlower()]\n",
      "\u001b[1;31mNameError\u001b[0m: name 'os' is not defined"
     ]
    }
   ],
   "source": [
    "root = '../Bone_Fracture_Binary_Classification/'\n",
    "train_paths = get_paths(root+'train/fractured/', root+'train/not fractured/')\n",
    "train_labels = [0 if 'not' in i else 1 for i in train_paths]\n",
    "test_paths = get_paths(root+'test/fractured/', root+'test/not fractured/')\n",
    "test_labels = [0 if 'not' in i else 1 for i in test_paths]\n",
    "val_paths = get_paths(root+'val/fractured/', root+'val/not fractured/')\n",
    "val_labels = [0 if 'not' in i else 1 for i in val_paths]"
   ]
  },
  {
   "cell_type": "code",
   "execution_count": 56,
   "metadata": {},
   "outputs": [],
   "source": [
    "resize = 256\n",
    "trans = transforms.Compose([transforms.Resize((resize, resize)),\n",
    "                            transforms.Lambda(lambda img: img.convert('RGB')),\n",
    "                            transforms.ToTensor()])\n",
    "classes = {'bone':0}"
   ]
  },
  {
   "cell_type": "code",
   "execution_count": 57,
   "metadata": {},
   "outputs": [],
   "source": [
    "train_ds = ImageSet(train_paths, train_labels, trans, classes)\n",
    "test_ds = ImageSet(test_paths, test_labels, trans, classes)\n",
    "val_ds = ImageSet(val_paths, val_labels, trans, classes)"
   ]
  },
  {
   "cell_type": "code",
   "execution_count": 58,
   "metadata": {},
   "outputs": [],
   "source": [
    "train_dl = DataLoader(train_ds, batch_size=1, shuffle=True)\n",
    "val_dl = DataLoader(val_ds, batch_size=1, shuffle=True)\n",
    "test_dl = DataLoader(test_ds, batch_size=1, shuffle=True)"
   ]
  },
  {
   "cell_type": "code",
   "execution_count": 61,
   "metadata": {},
   "outputs": [],
   "source": [
    "for idx, x in enumerate(train_dl):\n",
    "    image, label = x\n",
    "    image = image.detach().numpy()[0].transpose(1,2,0)\n",
    "    # image = image.astype(np.uint8)\n",
    "    image = (image * 255).astype(np.uint8)\n",
    "    if label[0][1] == 0.5:\n",
    "        label = label.detach().numpy().astype(str).tolist()[0]\n",
    "        with open(f'../bone_fracture/labels/train/image{idx+1}.txt', 'w') as f:\n",
    "            label = ' '.join(label)\n",
    "            f.write(label)\n",
    "    cv2.imwrite(f'../bone_fracture/images/train/image{idx+1}.jpg', image)\n",
    "    "
   ]
  },
  {
   "cell_type": "code",
   "execution_count": null,
   "metadata": {},
   "outputs": [],
   "source": []
  }
 ],
 "metadata": {
  "kernelspec": {
   "display_name": "duke_env",
   "language": "python",
   "name": "python3"
  },
  "language_info": {
   "codemirror_mode": {
    "name": "ipython",
    "version": 3
   },
   "file_extension": ".py",
   "mimetype": "text/x-python",
   "name": "python",
   "nbconvert_exporter": "python",
   "pygments_lexer": "ipython3",
   "version": "3.12.1"
  }
 },
 "nbformat": 4,
 "nbformat_minor": 2
}
